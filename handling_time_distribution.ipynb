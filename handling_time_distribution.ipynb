{
 "cells": [
  {
   "cell_type": "code",
   "execution_count": 1,
   "metadata": {
    "collapsed": true
   },
   "outputs": [],
   "source": [
    "import pandas as pd\n",
    "import matplotlib.pyplot as plt\n",
    "import matplotlib.ticker as tkr\n",
    "import seaborn as sns\n",
    "import numpy as np\n",
    "%matplotlib inline"
   ]
  },
  {
   "cell_type": "code",
   "execution_count": 2,
   "metadata": {
    "collapsed": false
   },
   "outputs": [],
   "source": [
    "df=pd.read_csv('data/df.csv')\n",
    "train=pd.read_csv('data/train.csv')"
   ]
  },
  {
   "cell_type": "code",
   "execution_count": 3,
   "metadata": {
    "collapsed": false
   },
   "outputs": [
    {
     "data": {
      "text/plain": [
       "0     7\n",
       "1     9\n",
       "2     6\n",
       "3    18\n",
       "4    11\n",
       "Name: handling_time, dtype: int64"
      ]
     },
     "execution_count": 3,
     "metadata": {},
     "output_type": "execute_result"
    }
   ],
   "source": [
    "df['handling_time'].head()"
   ]
  },
  {
   "cell_type": "code",
   "execution_count": 4,
   "metadata": {
    "collapsed": false
   },
   "outputs": [
    {
     "data": {
      "text/html": [
       "<div>\n",
       "<table border=\"1\" class=\"dataframe\">\n",
       "  <thead>\n",
       "    <tr style=\"text-align: right;\">\n",
       "      <th></th>\n",
       "      <th>user_id</th>\n",
       "      <th>label</th>\n",
       "      <th>success</th>\n",
       "      <th>card_num</th>\n",
       "      <th>hyperlink_clicks</th>\n",
       "      <th>magnify_clicks</th>\n",
       "      <th>expert_clicks</th>\n",
       "      <th>handling_time</th>\n",
       "      <th>hyperlink_clicked</th>\n",
       "      <th>magnify_clicked</th>\n",
       "      <th>expert_clicked</th>\n",
       "      <th>log_handling_time</th>\n",
       "      <th>time_lt_20</th>\n",
       "      <th>time_gt_100</th>\n",
       "    </tr>\n",
       "  </thead>\n",
       "  <tbody>\n",
       "    <tr>\n",
       "      <th>0</th>\n",
       "      <td>150301</td>\n",
       "      <td>0</td>\n",
       "      <td>0</td>\n",
       "      <td>12</td>\n",
       "      <td>0</td>\n",
       "      <td>0</td>\n",
       "      <td>0</td>\n",
       "      <td>14</td>\n",
       "      <td>0</td>\n",
       "      <td>0</td>\n",
       "      <td>0</td>\n",
       "      <td>2.639057</td>\n",
       "      <td>1</td>\n",
       "      <td>0</td>\n",
       "    </tr>\n",
       "    <tr>\n",
       "      <th>1</th>\n",
       "      <td>150301</td>\n",
       "      <td>0</td>\n",
       "      <td>0</td>\n",
       "      <td>5</td>\n",
       "      <td>1</td>\n",
       "      <td>0</td>\n",
       "      <td>0</td>\n",
       "      <td>40</td>\n",
       "      <td>1</td>\n",
       "      <td>0</td>\n",
       "      <td>0</td>\n",
       "      <td>3.688879</td>\n",
       "      <td>0</td>\n",
       "      <td>0</td>\n",
       "    </tr>\n",
       "    <tr>\n",
       "      <th>2</th>\n",
       "      <td>150301</td>\n",
       "      <td>0</td>\n",
       "      <td>0</td>\n",
       "      <td>9</td>\n",
       "      <td>0</td>\n",
       "      <td>0</td>\n",
       "      <td>0</td>\n",
       "      <td>16</td>\n",
       "      <td>0</td>\n",
       "      <td>0</td>\n",
       "      <td>0</td>\n",
       "      <td>2.772589</td>\n",
       "      <td>1</td>\n",
       "      <td>0</td>\n",
       "    </tr>\n",
       "    <tr>\n",
       "      <th>3</th>\n",
       "      <td>150301</td>\n",
       "      <td>0</td>\n",
       "      <td>0</td>\n",
       "      <td>15</td>\n",
       "      <td>1</td>\n",
       "      <td>0</td>\n",
       "      <td>0</td>\n",
       "      <td>79</td>\n",
       "      <td>1</td>\n",
       "      <td>0</td>\n",
       "      <td>0</td>\n",
       "      <td>4.369448</td>\n",
       "      <td>0</td>\n",
       "      <td>0</td>\n",
       "    </tr>\n",
       "    <tr>\n",
       "      <th>4</th>\n",
       "      <td>175964</td>\n",
       "      <td>1</td>\n",
       "      <td>60</td>\n",
       "      <td>15</td>\n",
       "      <td>0</td>\n",
       "      <td>0</td>\n",
       "      <td>0</td>\n",
       "      <td>179</td>\n",
       "      <td>0</td>\n",
       "      <td>0</td>\n",
       "      <td>0</td>\n",
       "      <td>5.187386</td>\n",
       "      <td>0</td>\n",
       "      <td>1</td>\n",
       "    </tr>\n",
       "  </tbody>\n",
       "</table>\n",
       "</div>"
      ],
      "text/plain": [
       "   user_id  label  success  card_num  hyperlink_clicks  magnify_clicks  \\\n",
       "0   150301      0        0        12                 0               0   \n",
       "1   150301      0        0         5                 1               0   \n",
       "2   150301      0        0         9                 0               0   \n",
       "3   150301      0        0        15                 1               0   \n",
       "4   175964      1       60        15                 0               0   \n",
       "\n",
       "   expert_clicks  handling_time  hyperlink_clicked  magnify_clicked  \\\n",
       "0              0             14                  0                0   \n",
       "1              0             40                  1                0   \n",
       "2              0             16                  0                0   \n",
       "3              0             79                  1                0   \n",
       "4              0            179                  0                0   \n",
       "\n",
       "   expert_clicked  log_handling_time  time_lt_20  time_gt_100  \n",
       "0               0           2.639057           1            0  \n",
       "1               0           3.688879           0            0  \n",
       "2               0           2.772589           1            0  \n",
       "3               0           4.369448           0            0  \n",
       "4               0           5.187386           0            1  "
      ]
     },
     "execution_count": 4,
     "metadata": {},
     "output_type": "execute_result"
    }
   ],
   "source": [
    "train.head()"
   ]
  },
  {
   "cell_type": "code",
   "execution_count": 5,
   "metadata": {
    "collapsed": false
   },
   "outputs": [],
   "source": [
    "avg_time=df.groupby(['card_num'])['handling_time'].mean()"
   ]
  },
  {
   "cell_type": "code",
   "execution_count": 6,
   "metadata": {
    "collapsed": false
   },
   "outputs": [
    {
     "data": {
      "text/html": [
       "<div>\n",
       "<table border=\"1\" class=\"dataframe\">\n",
       "  <thead>\n",
       "    <tr style=\"text-align: right;\">\n",
       "      <th></th>\n",
       "      <th>success</th>\n",
       "      <th>top_half</th>\n",
       "      <th>user_id</th>\n",
       "    </tr>\n",
       "    <tr>\n",
       "      <th>user_id</th>\n",
       "      <th></th>\n",
       "      <th></th>\n",
       "      <th></th>\n",
       "    </tr>\n",
       "  </thead>\n",
       "  <tbody>\n",
       "    <tr>\n",
       "      <th>150301</th>\n",
       "      <td>0.000000</td>\n",
       "      <td>0</td>\n",
       "      <td>150301</td>\n",
       "    </tr>\n",
       "    <tr>\n",
       "      <th>175964</th>\n",
       "      <td>56.166667</td>\n",
       "      <td>1</td>\n",
       "      <td>175964</td>\n",
       "    </tr>\n",
       "    <tr>\n",
       "      <th>203883</th>\n",
       "      <td>44.000000</td>\n",
       "      <td>0</td>\n",
       "      <td>203883</td>\n",
       "    </tr>\n",
       "    <tr>\n",
       "      <th>210022</th>\n",
       "      <td>45.833333</td>\n",
       "      <td>0</td>\n",
       "      <td>210022</td>\n",
       "    </tr>\n",
       "    <tr>\n",
       "      <th>212749</th>\n",
       "      <td>46.666667</td>\n",
       "      <td>0</td>\n",
       "      <td>212749</td>\n",
       "    </tr>\n",
       "  </tbody>\n",
       "</table>\n",
       "</div>"
      ],
      "text/plain": [
       "           success  top_half  user_id\n",
       "user_id                              \n",
       "150301    0.000000         0   150301\n",
       "175964   56.166667         1   175964\n",
       "203883   44.000000         0   203883\n",
       "210022   45.833333         0   210022\n",
       "212749   46.666667         0   212749"
      ]
     },
     "execution_count": 6,
     "metadata": {},
     "output_type": "execute_result"
    }
   ],
   "source": [
    "avg_success = train.groupby('user_id')['success'].mean()\n",
    "avg_success = pd.DataFrame(avg_success)\n",
    "avg_success['top_half']=0\n",
    "median_score = avg_success['success'].median()\n",
    "avg_success.loc[avg_success.success>=median_score,'top_half']=1\n",
    "avg_success['user_id']=avg_success.index\n",
    "avg_success.head()"
   ]
  },
  {
   "cell_type": "code",
   "execution_count": 7,
   "metadata": {
    "collapsed": false
   },
   "outputs": [
    {
     "data": {
      "text/plain": [
       "1    1155\n",
       "0    1128\n",
       "dtype: int64"
      ]
     },
     "execution_count": 7,
     "metadata": {},
     "output_type": "execute_result"
    }
   ],
   "source": [
    "pd.value_counts(avg_success.top_half)"
   ]
  },
  {
   "cell_type": "code",
   "execution_count": 8,
   "metadata": {
    "collapsed": false
   },
   "outputs": [
    {
     "data": {
      "text/plain": [
       "52.833333333333336"
      ]
     },
     "execution_count": 8,
     "metadata": {},
     "output_type": "execute_result"
    }
   ],
   "source": [
    "avg_success['success'].median()"
   ]
  },
  {
   "cell_type": "code",
   "execution_count": 9,
   "metadata": {
    "collapsed": false
   },
   "outputs": [],
   "source": [
    "df2 = pd.merge(df,avg_success,on=['user_id'])\n",
    "df2 = df2[['user_id','card_num','top_half','handling_time']]"
   ]
  },
  {
   "cell_type": "code",
   "execution_count": 10,
   "metadata": {
    "collapsed": false
   },
   "outputs": [],
   "source": [
    "time_by_card = df2.groupby(['card_num','top_half'])['handling_time'].mean()"
   ]
  },
  {
   "cell_type": "code",
   "execution_count": 11,
   "metadata": {
    "collapsed": false
   },
   "outputs": [
    {
     "data": {
      "text/plain": [
       "card_num  top_half\n",
       "1         0            76.364685\n",
       "          1            74.987013\n",
       "2         0            33.023070\n",
       "          1            33.645581\n",
       "3         0           159.047028\n",
       "          1           193.223377\n",
       "4         0            98.072695\n",
       "          1           129.340260\n",
       "5         0           228.203901\n",
       "          1           294.935065\n",
       "6         0           115.991979\n",
       "          1           134.454467\n",
       "7         0           130.458036\n",
       "          1           163.940104\n",
       "8         0            87.700000\n",
       "          1           112.898438\n",
       "9         0           150.540250\n",
       "          1           183.404514\n",
       "10        0            95.176259\n",
       "          1           110.205729\n",
       "11        0           132.386282\n",
       "          1           168.845352\n",
       "12        0           101.854941\n",
       "          1           101.837533\n",
       "13        0           121.510000\n",
       "          1           150.933043\n",
       "14        0           109.745902\n",
       "          1           140.150435\n",
       "15        0           149.039234\n",
       "          1           188.802609\n",
       "16        0            80.916743\n",
       "          1            95.040905\n",
       "17        0            90.045078\n",
       "          1           119.719895\n",
       "18        0            69.006446\n",
       "          1            90.486463\n",
       "19        0           114.087558\n",
       "          1           128.778166\n",
       "20        0            86.793358\n",
       "          1           112.793886\n",
       "21        0           158.348708\n",
       "          1           194.560315\n",
       "22        0            20.012987\n",
       "          1            26.251969\n",
       "23        0            19.456685\n",
       "          1            23.623124\n",
       "Name: handling_time, dtype: float64"
      ]
     },
     "execution_count": 11,
     "metadata": {},
     "output_type": "execute_result"
    }
   ],
   "source": [
    "time_by_card"
   ]
  },
  {
   "cell_type": "code",
   "execution_count": 12,
   "metadata": {
    "collapsed": false
   },
   "outputs": [
    {
     "data": {
      "text/html": [
       "<div>\n",
       "<table border=\"1\" class=\"dataframe\">\n",
       "  <thead>\n",
       "    <tr style=\"text-align: right;\">\n",
       "      <th></th>\n",
       "      <th>bottom_time</th>\n",
       "      <th>top_time</th>\n",
       "    </tr>\n",
       "    <tr>\n",
       "      <th>card_num</th>\n",
       "      <th></th>\n",
       "      <th></th>\n",
       "    </tr>\n",
       "  </thead>\n",
       "  <tbody>\n",
       "    <tr>\n",
       "      <th>1</th>\n",
       "      <td>76.364685</td>\n",
       "      <td>74.987013</td>\n",
       "    </tr>\n",
       "    <tr>\n",
       "      <th>2</th>\n",
       "      <td>33.023070</td>\n",
       "      <td>33.645581</td>\n",
       "    </tr>\n",
       "    <tr>\n",
       "      <th>3</th>\n",
       "      <td>159.047028</td>\n",
       "      <td>193.223377</td>\n",
       "    </tr>\n",
       "    <tr>\n",
       "      <th>4</th>\n",
       "      <td>98.072695</td>\n",
       "      <td>129.340260</td>\n",
       "    </tr>\n",
       "    <tr>\n",
       "      <th>5</th>\n",
       "      <td>228.203901</td>\n",
       "      <td>294.935065</td>\n",
       "    </tr>\n",
       "    <tr>\n",
       "      <th>6</th>\n",
       "      <td>115.991979</td>\n",
       "      <td>134.454467</td>\n",
       "    </tr>\n",
       "    <tr>\n",
       "      <th>7</th>\n",
       "      <td>130.458036</td>\n",
       "      <td>163.940104</td>\n",
       "    </tr>\n",
       "    <tr>\n",
       "      <th>8</th>\n",
       "      <td>87.700000</td>\n",
       "      <td>112.898438</td>\n",
       "    </tr>\n",
       "    <tr>\n",
       "      <th>9</th>\n",
       "      <td>150.540250</td>\n",
       "      <td>183.404514</td>\n",
       "    </tr>\n",
       "    <tr>\n",
       "      <th>10</th>\n",
       "      <td>95.176259</td>\n",
       "      <td>110.205729</td>\n",
       "    </tr>\n",
       "    <tr>\n",
       "      <th>11</th>\n",
       "      <td>132.386282</td>\n",
       "      <td>168.845352</td>\n",
       "    </tr>\n",
       "    <tr>\n",
       "      <th>12</th>\n",
       "      <td>101.854941</td>\n",
       "      <td>101.837533</td>\n",
       "    </tr>\n",
       "    <tr>\n",
       "      <th>13</th>\n",
       "      <td>121.510000</td>\n",
       "      <td>150.933043</td>\n",
       "    </tr>\n",
       "    <tr>\n",
       "      <th>14</th>\n",
       "      <td>109.745902</td>\n",
       "      <td>140.150435</td>\n",
       "    </tr>\n",
       "    <tr>\n",
       "      <th>15</th>\n",
       "      <td>149.039234</td>\n",
       "      <td>188.802609</td>\n",
       "    </tr>\n",
       "    <tr>\n",
       "      <th>16</th>\n",
       "      <td>80.916743</td>\n",
       "      <td>95.040905</td>\n",
       "    </tr>\n",
       "    <tr>\n",
       "      <th>17</th>\n",
       "      <td>90.045078</td>\n",
       "      <td>119.719895</td>\n",
       "    </tr>\n",
       "    <tr>\n",
       "      <th>18</th>\n",
       "      <td>69.006446</td>\n",
       "      <td>90.486463</td>\n",
       "    </tr>\n",
       "    <tr>\n",
       "      <th>19</th>\n",
       "      <td>114.087558</td>\n",
       "      <td>128.778166</td>\n",
       "    </tr>\n",
       "    <tr>\n",
       "      <th>20</th>\n",
       "      <td>86.793358</td>\n",
       "      <td>112.793886</td>\n",
       "    </tr>\n",
       "    <tr>\n",
       "      <th>21</th>\n",
       "      <td>158.348708</td>\n",
       "      <td>194.560315</td>\n",
       "    </tr>\n",
       "    <tr>\n",
       "      <th>22</th>\n",
       "      <td>20.012987</td>\n",
       "      <td>26.251969</td>\n",
       "    </tr>\n",
       "    <tr>\n",
       "      <th>23</th>\n",
       "      <td>19.456685</td>\n",
       "      <td>23.623124</td>\n",
       "    </tr>\n",
       "  </tbody>\n",
       "</table>\n",
       "</div>"
      ],
      "text/plain": [
       "          bottom_time    top_time\n",
       "card_num                         \n",
       "1           76.364685   74.987013\n",
       "2           33.023070   33.645581\n",
       "3          159.047028  193.223377\n",
       "4           98.072695  129.340260\n",
       "5          228.203901  294.935065\n",
       "6          115.991979  134.454467\n",
       "7          130.458036  163.940104\n",
       "8           87.700000  112.898438\n",
       "9          150.540250  183.404514\n",
       "10          95.176259  110.205729\n",
       "11         132.386282  168.845352\n",
       "12         101.854941  101.837533\n",
       "13         121.510000  150.933043\n",
       "14         109.745902  140.150435\n",
       "15         149.039234  188.802609\n",
       "16          80.916743   95.040905\n",
       "17          90.045078  119.719895\n",
       "18          69.006446   90.486463\n",
       "19         114.087558  128.778166\n",
       "20          86.793358  112.793886\n",
       "21         158.348708  194.560315\n",
       "22          20.012987   26.251969\n",
       "23          19.456685   23.623124"
      ]
     },
     "execution_count": 12,
     "metadata": {},
     "output_type": "execute_result"
    }
   ],
   "source": [
    "df3 = pd.DataFrame(time_by_card.loc[:,0])\n",
    "df3['top_time']=time_by_card.loc[:,1]\n",
    "df3.columns=['bottom_time','top_time']\n",
    "df3"
   ]
  },
  {
   "cell_type": "code",
   "execution_count": 13,
   "metadata": {
    "collapsed": false
   },
   "outputs": [
    {
     "data": {
      "image/png": "[encoded data removed]",
      "text/plain": [
       "<matplotlib.figure.Figure at 0x1083f1950>"
      ]
     },
     "metadata": {},
     "output_type": "display_data"
    }
   ],
   "source": [
    "sns.set_style(\"whitegrid\")\n",
    "sns.set_context(\"poster\")\n",
    "width = 0.35\n",
    "fig, ax = plt.subplots(figsize=(6,12))\n",
    "rects1 = ax.barh(df3.index,df3['bottom_time'],width,color='#88CCFF',edgecolor='none')\n",
    "rects2 = ax.barh(df3.index+width,df3['top_time'],width,color='#FFD38A',edgecolor='none')\n",
    "ax.set_xlabel('Handling Time (seconds)')\n",
    "ax.set_ylabel('Card')\n",
    "ax.set_title('Time Spent on Cards for High- and Low-Performing Students')\n",
    "ax.set_yticks([c + width for c in df3.index])\n",
    "ax.set_yticklabels(df3.index, va='center')\n",
    "\n",
    "ax.legend((rects1[0], rects2[0]), ('Bottom 50%', 'Top 50%'), title=\"Overall Student Score Percentile\")\n",
    "ax.set_ylim([0,24])\n",
    "plt.gca().invert_yaxis()\n",
    "\n",
    "def autolabel(rects):\n",
    "    # attach label if null\n",
    "    for rect in rects:\n",
    "        width = rect.get_width()\n",
    "        if pd.isnull(width):\n",
    "            ax.text(0,rect.get_y() + rect.get_height()/2.,\n",
    "                'X',\n",
    "                ha='left', va='center')\n",
    "\n",
    "#autolabel(rects1)\n",
    "#autolabel(rects2)\n",
    "#autolabel(rects3)"
   ]
  },
  {
   "cell_type": "code",
   "execution_count": 113,
   "metadata": {
    "collapsed": true
   },
   "outputs": [],
   "source": [
    "times=[]"
   ]
  },
  {
   "cell_type": "code",
   "execution_count": 116,
   "metadata": {
    "collapsed": false
   },
   "outputs": [],
   "source": [
    "times.append(train.loc[train.handling_time<20,].shape[0]*1./train.shape[0])"
   ]
  },
  {
   "cell_type": "code",
   "execution_count": 117,
   "metadata": {
    "collapsed": false
   },
   "outputs": [],
   "source": [
    "times.append(train.loc[(train.handling_time>=20) & (train.handling_time<=100),].shape[0]*1./train.shape[0])"
   ]
  },
  {
   "cell_type": "code",
   "execution_count": 118,
   "metadata": {
    "collapsed": false
   },
   "outputs": [],
   "source": [
    "times.append(train.loc[train.handling_time>100,].shape[0]*1./train.shape[0])"
   ]
  },
  {
   "cell_type": "code",
   "execution_count": 152,
   "metadata": {
    "collapsed": false
   },
   "outputs": [
    {
     "data": {
      "image/png": "[encoded data removed]",
      "text/plain": [
       "<matplotlib.figure.Figure at 0x10ead6f50>"
      ]
     },
     "metadata": {},
     "output_type": "display_data"
    }
   ],
   "source": [
    "width=.35\n",
    "fig, ax = plt.subplots()\n",
    "sns.set_style(\"white\")\n",
    "sns.despine()\n",
    "rects = ax.bar(range(3),times,color='#88CCFF',edgecolor='none')\n",
    "ax.set_xlabel('Handling Time Ranges')\n",
    "ax.set_title('Time Spent on Cards for High- and Low-Performing Students')\n",
    "ax.set_xticks([c + width for c in range(3)])\n",
    "ax.set_xticklabels(['<20 sec','20-100 sec','>100 sec'], ha='center')\n",
    "ax.set_yticks([])\n",
    "\n",
    "def autolabel(rects):\n",
    "    # attach label if null\n",
    "    for rect in rects:\n",
    "        h = rect.get_height()\n",
    "        ax.text(rect.get_x() + rect.get_width()/2,\n",
    "                h + .03,\n",
    "            '{:.0%}'.format(h),\n",
    "            ha='center', va='center')\n",
    "\n",
    "autolabel(rects)"
   ]
  },
  {
   "cell_type": "code",
   "execution_count": 121,
   "metadata": {
    "collapsed": false
   },
   "outputs": [
    {
     "data": {
      "text/plain": [
       "[0.14062615646510251, 0.2483161868107468, 0.6110576567241507]"
      ]
     },
     "execution_count": 121,
     "metadata": {},
     "output_type": "execute_result"
    }
   ],
   "source": [
    "times"
   ]
  },
  {
   "cell_type": "code",
   "execution_count": null,
   "metadata": {
    "collapsed": true
   },
   "outputs": [],
   "source": []
  }
 ],
 "metadata": {
  "kernelspec": {
   "display_name": "Python 2",
   "language": "python",
   "name": "python2"
  },
  "language_info": {
   "codemirror_mode": {
    "name": "ipython",
    "version": 2
   },
   "file_extension": ".py",
   "mimetype": "text/x-python",
   "name": "python",
   "nbconvert_exporter": "python",
   "pygments_lexer": "ipython2",
   "version": "2.7.11"
  }
 },
 "nbformat": 4,
 "nbformat_minor": 0
}
